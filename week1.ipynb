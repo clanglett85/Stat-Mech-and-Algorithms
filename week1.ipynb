{
 "cells": [
  {
   "cell_type": "code",
   "execution_count": 52,
   "metadata": {},
   "outputs": [],
   "source": [
    "import numpy as np\n",
    "import random\n",
    "import statistics\n",
    "import matplotlib.pyplot as plt\n",
    "import pylab\n",
    "from matplotlib.image import NonUniformImage"
   ]
  },
  {
   "cell_type": "code",
   "execution_count": 2,
   "metadata": {},
   "outputs": [
    {
     "name": "stdout",
     "output_type": "stream",
     "text": [
      "3.1448\n"
     ]
    }
   ],
   "source": [
    "#Exercise-1: Predict the value of Pi for a single-run\n",
    "\n",
    "#Define a function, that is a 1x1 square that randomly draws a number between\n",
    "#these values and then take the ratio of the throws inside a circle to the\n",
    "#total number of throws.\n",
    "\n",
    "ntrials = 10000\n",
    "nhits = 0\n",
    "\n",
    "for i in range(ntrials):\n",
    "    x,y = random.uniform(-1.0,1.0), random.uniform(-1.0,1.0)\n",
    "    \n",
    "    if x**2 + y**2 < 1.0:\n",
    "        nhits += 1.0\n",
    "print(4*(nhits/float(ntrials)))"
   ]
  },
  {
   "cell_type": "code",
   "execution_count": 3,
   "metadata": {},
   "outputs": [],
   "source": [
    "#Make it so you can run many-trials\n",
    "\n",
    "def pi(N):\n",
    "    nhits = 0\n",
    "    for i in range(N):\n",
    "        x,y = random.uniform(-1.0,1.0), random.uniform(-1.0,1.0)\n",
    "        if x**2 + y**2 < 1.0:\n",
    "            nhits += 1.0\n",
    "    return nhits\n",
    "\n",
    "nruns = 5000\n",
    "ntrials = 4000\n",
    "\n",
    "#store the data into an array, to plot to see the convergence\n",
    "x = []\n",
    "for j in range(nruns):\n",
    "    x.append(4.0*(pi(ntrials)/float(ntrials)))\n",
    "    #print(x)"
   ]
  },
  {
   "cell_type": "code",
   "execution_count": 4,
   "metadata": {},
   "outputs": [
    {
     "data": {
      "image/png": "[encoded data removed]",
      "text/plain": [
       "<Figure size 432x288 with 1 Axes>"
      ]
     },
     "metadata": {
      "needs_background": "light"
     },
     "output_type": "display_data"
    }
   ],
   "source": [
    "plt.plot(x)\n",
    "plt.axhline(y=np.pi, color='r', linestyle='-')\n",
    "plt.show()"
   ]
  },
  {
   "cell_type": "code",
   "execution_count": 15,
   "metadata": {},
   "outputs": [
    {
     "name": "stdout",
     "output_type": "stream",
     "text": [
      "3.2416\n"
     ]
    }
   ],
   "source": [
    "#Part-2 Markov sampling \n",
    "\"\"\"What this program is doing is initializing the point of the sample, (x,y)\n",
    "and then randomly moving is according to a uniform sampling within the area of a \n",
    "square. If the small delta x,y and its initial position sit outside the radius of\n",
    "a small circle then we just keep the sample in that spot until we get a \n",
    "point back inside the system. \"\"\"\n",
    "x, y = 1.0, 1.0\n",
    "delta = 0.1\n",
    "n_trials = 5000\n",
    "n_hits = 0\n",
    "for i in range(n_trials):\n",
    "    del_x, del_y = random.uniform(-delta, delta), random.uniform(-delta, delta)\n",
    "    if abs(x + del_x) < 1.0 and abs(y + del_y) < 1.0:\n",
    "        x, y = x + del_x, y + del_y\n",
    "    if x**2 + y**2 < 1.0: n_hits += 1\n",
    "print(4.0 * n_hits / float(n_trials))\n",
    "\n",
    "#multi-run\n",
    "\n",
    "def ms(N, delta):\n",
    "    x,y = 1.0,1.0\n",
    "    n_hits = 0\n",
    "    for i in range(n_trials):\n",
    "        del_x, del_y = random.uniform(-delta, delta), random.uniform(-delta, delta)\n",
    "        if abs(x + del_x) < 1.0 and abs(y + del_y) < 1.0:\n",
    "            x, y = x + del_x, y + del_y\n",
    "        if x**2 + y**2 < 1.0: n_hits += 1\n",
    "    \n",
    "    return n_hits\n",
    "\n",
    "#take into account all runs and average over them\n",
    "nruns = 1000\n",
    "n_trials = 4000\n",
    "delta = 0.1\n",
    "\n",
    "y= []\n",
    "for j in range(nruns):\n",
    "    y.append(4.0 * ms(n_trials,delta) / float(n_trials))\n",
    "    #print(y)    "
   ]
  },
  {
   "cell_type": "code",
   "execution_count": 35,
   "metadata": {},
   "outputs": [
    {
     "name": "stdout",
     "output_type": "stream",
     "text": [
      "1\n",
      "1\n",
      "1\n",
      "1\n"
     ]
    }
   ],
   "source": [
    "#simulating the pebble-game \n",
    "neighbor =  [[1, 3, 0, 0], [2, 4, 0, 1], [2, 5, 1, 2],\n",
    "             [4, 6, 3, 0], [5, 7, 3, 1], [5, 8, 4, 2],\n",
    "             [7, 6, 6, 3], [8, 7, 6, 4], [8, 8, 7, 5]]\n",
    "t_max = 4\n",
    "site = 8\n",
    "t = 0\n",
    "#print(neighbor[site])\n",
    "\n",
    "while t < t_max:\n",
    "    t += 1\n",
    "    site = neighbor[site][random.randint(0, 3)]\n",
    "    print(1)\n",
    "    \n"
   ]
  },
  {
   "cell_type": "code",
   "execution_count": 45,
   "metadata": {},
   "outputs": [
    {
     "name": "stdout",
     "output_type": "stream",
     "text": [
      "comparison:  weight, histogram\n",
      "site:  0  weight:  3.0  histo:  2.98412\n",
      "site:  1  weight:  0.5  histo:  0.49965\n",
      "site:  2  weight:  1.0  histo:  0.99926\n",
      "site:  3  weight:  0.5  histo:  0.5022\n",
      "site:  4  weight:  1.0  histo:  1.00151\n",
      "site:  5  weight:  0.5  histo:  0.5011\n",
      "site:  6  weight:  2.0  histo:  2.01257\n",
      "site:  7  weight:  0.5  histo:  0.49757\n",
      "site:  8  weight:  1.0  histo:  1.00202\n"
     ]
    }
   ],
   "source": [
    "#non-constant weights\n",
    "\n",
    "#initalize an empty-variable for histogram\n",
    "histo = [0, 0, 0, 0, 0, 0, 0, 0, 0]\n",
    "\n",
    "#initialize the lattice\n",
    "neighbor =  [[1, 3, 0, 0], [2, 4, 0, 1], [2, 5, 1, 2],\n",
    "             [4, 6, 3, 0], [5, 7, 3, 1], [5, 8, 4, 2],\n",
    "             [7, 6, 6, 3], [8, 7, 6, 4], [8, 8, 7, 5]]\n",
    "\n",
    "#assign non-equal weights to each cell; should be done randomly for improvement\n",
    "weight = [3.0, 0.5, 1.0, 0.5, 1.0, 0.5, 2.0, 0.5, 1.0]\n",
    "\n",
    "#initialize the position to start on grid\n",
    "pos = 8\n",
    "n_iter = 1000000\n",
    "for iter in range(n_iter):\n",
    "    new_pos = neighbor[pos][random.randint(0, 3)]\n",
    "    \"\"\" draw random number between 0 and 1 and accept if the ratio of the weights\n",
    "        is larger.\"\"\"\n",
    "    \n",
    "    if random.random() < weight[new_pos] / weight[pos]:\n",
    "        pos = new_pos\n",
    "    histo[pos] += 1 \n",
    "\n",
    "norm = sum(weight)\n",
    "print('comparison:  weight, histogram')\n",
    "for k in range(9): \n",
    "    print('site: ', k,' weight: ', weight[k], ' histo: ', norm * histo[k] / float(n_iter))"
   ]
  },
  {
   "cell_type": "code",
   "execution_count": 48,
   "metadata": {},
   "outputs": [
    {
     "data": {
      "image/png": "[encoded data removed]",
      "text/plain": [
       "<Figure size 432x288 with 1 Axes>"
      ]
     },
     "metadata": {},
     "output_type": "display_data"
    },
    {
     "data": {
      "image/png": "[encoded data removed]",
      "text/plain": [
       "<Figure size 432x288 with 1 Axes>"
      ]
     },
     "metadata": {},
     "output_type": "display_data"
    },
    {
     "data": {
      "image/png": "[encoded data removed]",
      "text/plain": [
       "<Figure size 432x288 with 1 Axes>"
      ]
     },
     "metadata": {},
     "output_type": "display_data"
    },
    {
     "data": {
      "image/png": "[encoded data removed]",
      "text/plain": [
       "<Figure size 432x288 with 1 Axes>"
      ]
     },
     "metadata": {},
     "output_type": "display_data"
    },
    {
     "data": {
      "image/png": "[encoded data removed]",
      "text/plain": [
       "<Figure size 432x288 with 1 Axes>"
      ]
     },
     "metadata": {},
     "output_type": "display_data"
    },
    {
     "data": {
      "image/png": "[encoded data removed]",
      "text/plain": [
       "<Figure size 432x288 with 1 Axes>"
      ]
     },
     "metadata": {},
     "output_type": "display_data"
    },
    {
     "data": {
      "image/png": "[encoded data removed]",
      "text/plain": [
       "<Figure size 432x288 with 1 Axes>"
      ]
     },
     "metadata": {},
     "output_type": "display_data"
    },
    {
     "data": {
      "image/png": "[encoded data removed]",
      "text/plain": [
       "<Figure size 432x288 with 1 Axes>"
      ]
     },
     "metadata": {},
     "output_type": "display_data"
    },
    {
     "data": {
      "image/png": "[encoded data removed]",
      "text/plain": [
       "<Figure size 432x288 with 1 Axes>"
      ]
     },
     "metadata": {},
     "output_type": "display_data"
    },
    {
     "data": {
      "image/png": "[encoded data removed]",
      "text/plain": [
       "<Figure size 432x288 with 1 Axes>"
      ]
     },
     "metadata": {},
     "output_type": "display_data"
    },
    {
     "data": {
      "text/plain": [
       "<Figure size 432x288 with 0 Axes>"
      ]
     },
     "metadata": {},
     "output_type": "display_data"
    }
   ],
   "source": [
    "sigma = 0.4  # sigma and s_map are needed for the graphical output\n",
    "\n",
    "s_map = [(1.0, 1.0), (2.0, 1.0), (3.0, 1.0), \n",
    "         (1.0, 2.0), (2.0, 2.0), (3.0, 2.0), \n",
    "         (1.0, 3.0), (2.0, 3.0), (3.0, 3.0)] \n",
    "\n",
    "neighbor =  [[1, 3, 0, 0], [2, 4, 0, 1], [2, 5, 1, 2],\n",
    "             [4, 6, 3, 0], [5, 7, 3, 1], [5, 8, 4, 2],\n",
    "             [7, 6, 6, 3], [8, 7, 6, 4], [8, 8, 7, 5]]\n",
    "site = 8\n",
    "N_runs = 10\n",
    "for run in range(N_runs):\n",
    "    if run < 10: number_string = '0'+str(run)\n",
    "    else: number_string = str(run)\n",
    "    # Begin of graphical output\n",
    "    cir = pylab.Circle(s_map[site], radius=sigma, fc='r')\n",
    "    pylab.gca().add_patch(cir)\n",
    "    pylab.plot([0.5, 3.5], [1.5, 1.5], 'b')\n",
    "    pylab.plot([0.5, 3.5], [2.5, 2.5], 'b')\n",
    "    pylab.plot([1.5, 1.5], [0.5, 3.5], 'b')\n",
    "    pylab.plot([2.5, 2.5], [0.5, 3.5], 'b')\n",
    "    pylab.title('t = '+ number_string)\n",
    "    pylab.axis('scaled')\n",
    "    pylab.axis([0.5, 3.5, 0.5, 3.5])\n",
    "    pylab.xticks([])\n",
    "    pylab.yticks([])\n",
    "    #pylab.savefig('pebble_basic_movie_'+number_string+'.png', transparent=False)\n",
    "    pylab.show()\n",
    "    pylab.clf()\n",
    "    # End of graphical output\n",
    "    site = neighbor[site][ random.randint(0, 3)]"
   ]
  },
  {
   "cell_type": "code",
   "execution_count": 56,
   "metadata": {},
   "outputs": [
    {
     "name": "stdout",
     "output_type": "stream",
     "text": [
      "[[0.   0.   2.25]\n",
      " [0.   0.   0.  ]\n",
      " [0.   0.   0.  ]]\n",
      "[[0. 0. 1.]\n",
      " [0. 0. 0.]\n",
      " [0. 0. 0.]]\n"
     ]
    },
    {
     "data": {
      "image/png": "[encoded data removed]",
      "text/plain": [
       "<Figure size 432x288 with 2 Axes>"
      ]
     },
     "metadata": {
      "needs_background": "light"
     },
     "output_type": "display_data"
    }
   ],
   "source": [
    "#Define two-dictionaries, where the first number is the key to the second.\n",
    "\n",
    "xvec = {1:3, 2:2, 3:1, 4:3, 5:2, 6:1, 7:3, 8:2, 9:1} \n",
    "yvec = {1:1, 2:1, 3:1, 4:2, 5:2, 6:2, 7:3, 8:3, 9:3} \n",
    "\n",
    "#Define the pebble-grid as a dictionary as well\n",
    "\n",
    "neighbor = {1 : [2, 4, 1, 1], 2 : [3, 5, 1, 2], 3 : [3, 6, 2, 3],\n",
    "            4 : [5, 7, 4, 1], 5 : [6, 8, 4, 2], 6 : [6, 9, 5, 3],\n",
    "            7 : [8, 7, 7, 4], 8 : [9, 8, 7, 5], 9 : [9, 9, 8, 6]}\n",
    "\n",
    "list_vec = []\n",
    "run = 0\n",
    "if run < 10:  run_str= '0' + str(run)\n",
    "else: run_str = str(run)\n",
    "for n_runs in range(100000): \n",
    "    pos = 9\n",
    "    for iter in range(run):\n",
    "        pos = neighbor[pos][ random.randint(0, 3)]\n",
    "    list_vec.append(pos)\n",
    "\n",
    "x = [xvec[k] for k in list_vec]\n",
    "y = [yvec[k] for k in list_vec]\n",
    "\n",
    "plt.xticks([])\n",
    "plt.yticks([])\n",
    "H, xedges, yedges = np.histogram2d(x, y, bins=(3, 3), \n",
    "           range=[[1,3],[1,3]], normed=True)\n",
    "print(H)\n",
    "H /= np.sum(H)\n",
    "print(H)\n",
    "extent = [yedges[0], yedges[-1], xedges[-1], xedges[0]]\n",
    "plt.imshow(H, extent=extent, interpolation='nearest', vmin=0.0, vmax=1.0)\n",
    "plt.set_cmap('hot')\n",
    "plt.colorbar()\n",
    "plt.title('t = '+str(run),fontsize=22)\n",
    "plt.savefig('3x3_pebble_run_'+run_str+'.png')\n",
    "plt.show()"
   ]
  },
  {
   "cell_type": "code",
   "execution_count": 62,
   "metadata": {},
   "outputs": [
    {
     "name": "stdout",
     "output_type": "stream",
     "text": [
      "0    ['0.00000', '0.00000', '0.00000', '0.00000', '0.00000', '0.00000', '0.00000', '0.00000', '1.00000']\n",
      "1    ['0.00000', '0.00000', '0.00000', '0.00000', '0.00000', '0.25000', '0.00000', '0.25000', '0.50000']\n",
      "2    ['0.00000', '0.00000', '0.06250', '0.00000', '0.12500', '0.18750', '0.06250', '0.18750', '0.37500']\n",
      "3    ['0.00000', '0.04688', '0.07812', '0.04688', '0.09375', '0.18750', '0.07812', '0.18750', '0.28125']\n",
      "4    ['0.02344', '0.05469', '0.09766', '0.05469', '0.11719', '0.16016', '0.09766', '0.16016', '0.23438']\n",
      "5    ['0.03906', '0.07324', '0.10254', '0.07324', '0.10742', '0.15234', '0.10254', '0.15234', '0.19727']\n",
      "6    ['0.05615', '0.08057', '0.10767', '0.08057', '0.11279', '0.13989', '0.10767', '0.13989', '0.17480']\n",
      "7    ['0.06836', '0.08929', '0.10895', '0.08929', '0.11023', '0.13379', '0.10895', '0.13379', '0.15735']\n",
      "8    ['0.07883', '0.09421', '0.11024', '0.09421', '0.11154', '0.12758', '0.11024', '0.12758', '0.14557']\n",
      "9    ['0.08652', '0.09871', '0.11057', '0.09871', '0.11089', '0.12373', '0.11057', '0.12373', '0.13657']\n",
      "10    ['0.09261', '0.10167', '0.11089', '0.10167', '0.11122', '0.12044', '0.11089', '0.12044', '0.13015']\n",
      "11    ['0.09714', '0.10410', '0.11098', '0.10410', '0.11106', '0.11818', '0.11098', '0.11818', '0.12530']\n",
      "12    ['0.10062', '0.10582', '0.11106', '0.10582', '0.11114', '0.11638', '0.11106', '0.11638', '0.12174']\n",
      "13    ['0.10322', '0.10716', '0.11108', '0.10716', '0.11110', '0.11508', '0.11108', '0.11508', '0.11906']\n",
      "14    ['0.10519', '0.10814', '0.11110', '0.10814', '0.11112', '0.11408', '0.11110', '0.11408', '0.11707']\n",
      "15    ['0.10666', '0.10889', '0.11110', '0.10889', '0.11111', '0.11334', '0.11110', '0.11334', '0.11557']\n",
      "16    ['0.10777', '0.10944', '0.11111', '0.10944', '0.11111', '0.11278', '0.11111', '0.11278', '0.11446']\n",
      "17    ['0.10861', '0.10986', '0.11111', '0.10986', '0.11111', '0.11236', '0.11111', '0.11236', '0.11362']\n",
      "18    ['0.10923', '0.11017', '0.11111', '0.11017', '0.11111', '0.11205', '0.11111', '0.11205', '0.11299']\n",
      "19    ['0.10970', '0.11041', '0.11111', '0.11041', '0.11111', '0.11182', '0.11111', '0.11182', '0.11252']\n",
      "20    ['0.11005', '0.11058', '0.11111', '0.11058', '0.11111', '0.11164', '0.11111', '0.11164', '0.11217']\n",
      "21    ['0.11032', '0.11071', '0.11111', '0.11071', '0.11111', '0.11151', '0.11111', '0.11151', '0.11190']\n",
      "22    ['0.11052', '0.11081', '0.11111', '0.11081', '0.11111', '0.11141', '0.11111', '0.11141', '0.11171']\n",
      "23    ['0.11067', '0.11089', '0.11111', '0.11089', '0.11111', '0.11133', '0.11111', '0.11133', '0.11156']\n",
      "24    ['0.11078', '0.11094', '0.11111', '0.11094', '0.11111', '0.11128', '0.11111', '0.11128', '0.11145']\n",
      "25    ['0.11086', '0.11099', '0.11111', '0.11099', '0.11111', '0.11124', '0.11111', '0.11124', '0.11136']\n",
      "26    ['0.11092', '0.11102', '0.11111', '0.11102', '0.11111', '0.11121', '0.11111', '0.11121', '0.11130']\n",
      "27    ['0.11097', '0.11104', '0.11111', '0.11104', '0.11111', '0.11118', '0.11111', '0.11118', '0.11125']\n",
      "28    ['0.11101', '0.11106', '0.11111', '0.11106', '0.11111', '0.11116', '0.11111', '0.11116', '0.11122']\n",
      "29    ['0.11103', '0.11107', '0.11111', '0.11107', '0.11111', '0.11115', '0.11111', '0.11115', '0.11119']\n",
      "30    ['0.11105', '0.11108', '0.11111', '0.11108', '0.11111', '0.11114', '0.11111', '0.11114', '0.11117']\n",
      "31    ['0.11107', '0.11109', '0.11111', '0.11109', '0.11111', '0.11113', '0.11111', '0.11113', '0.11116']\n",
      "32    ['0.11108', '0.11109', '0.11111', '0.11109', '0.11111', '0.11113', '0.11111', '0.11113', '0.11114']\n",
      "33    ['0.11109', '0.11110', '0.11111', '0.11110', '0.11111', '0.11112', '0.11111', '0.11112', '0.11114']\n",
      "34    ['0.11109', '0.11110', '0.11111', '0.11110', '0.11111', '0.11112', '0.11111', '0.11112', '0.11113']\n",
      "35    ['0.11110', '0.11110', '0.11111', '0.11110', '0.11111', '0.11112', '0.11111', '0.11112', '0.11113']\n",
      "36    ['0.11110', '0.11111', '0.11111', '0.11111', '0.11111', '0.11112', '0.11111', '0.11112', '0.11112']\n",
      "37    ['0.11110', '0.11111', '0.11111', '0.11111', '0.11111', '0.11112', '0.11111', '0.11112', '0.11112']\n",
      "38    ['0.11111', '0.11111', '0.11111', '0.11111', '0.11111', '0.11111', '0.11111', '0.11111', '0.11112']\n",
      "39    ['0.11111', '0.11111', '0.11111', '0.11111', '0.11111', '0.11111', '0.11111', '0.11111', '0.11112']\n",
      "40    ['0.11111', '0.11111', '0.11111', '0.11111', '0.11111', '0.11111', '0.11111', '0.11111', '0.11111']\n",
      "41    ['0.11111', '0.11111', '0.11111', '0.11111', '0.11111', '0.11111', '0.11111', '0.11111', '0.11111']\n",
      "42    ['0.11111', '0.11111', '0.11111', '0.11111', '0.11111', '0.11111', '0.11111', '0.11111', '0.11111']\n",
      "43    ['0.11111', '0.11111', '0.11111', '0.11111', '0.11111', '0.11111', '0.11111', '0.11111', '0.11111']\n",
      "44    ['0.11111', '0.11111', '0.11111', '0.11111', '0.11111', '0.11111', '0.11111', '0.11111', '0.11111']\n",
      "45    ['0.11111', '0.11111', '0.11111', '0.11111', '0.11111', '0.11111', '0.11111', '0.11111', '0.11111']\n",
      "46    ['0.11111', '0.11111', '0.11111', '0.11111', '0.11111', '0.11111', '0.11111', '0.11111', '0.11111']\n",
      "47    ['0.11111', '0.11111', '0.11111', '0.11111', '0.11111', '0.11111', '0.11111', '0.11111', '0.11111']\n",
      "48    ['0.11111', '0.11111', '0.11111', '0.11111', '0.11111', '0.11111', '0.11111', '0.11111', '0.11111']\n",
      "49    ['0.11111', '0.11111', '0.11111', '0.11111', '0.11111', '0.11111', '0.11111', '0.11111', '0.11111']\n",
      "50    ['0.11111', '0.11111', '0.11111', '0.11111', '0.11111', '0.11111', '0.11111', '0.11111', '0.11111']\n",
      "51    ['0.11111', '0.11111', '0.11111', '0.11111', '0.11111', '0.11111', '0.11111', '0.11111', '0.11111']\n",
      "52    ['0.11111', '0.11111', '0.11111', '0.11111', '0.11111', '0.11111', '0.11111', '0.11111', '0.11111']\n",
      "53    ['0.11111', '0.11111', '0.11111', '0.11111', '0.11111', '0.11111', '0.11111', '0.11111', '0.11111']\n",
      "54    ['0.11111', '0.11111', '0.11111', '0.11111', '0.11111', '0.11111', '0.11111', '0.11111', '0.11111']\n",
      "55    ['0.11111', '0.11111', '0.11111', '0.11111', '0.11111', '0.11111', '0.11111', '0.11111', '0.11111']\n",
      "56    ['0.11111', '0.11111', '0.11111', '0.11111', '0.11111', '0.11111', '0.11111', '0.11111', '0.11111']\n",
      "57    ['0.11111', '0.11111', '0.11111', '0.11111', '0.11111', '0.11111', '0.11111', '0.11111', '0.11111']\n",
      "58    ['0.11111', '0.11111', '0.11111', '0.11111', '0.11111', '0.11111', '0.11111', '0.11111', '0.11111']\n",
      "59    ['0.11111', '0.11111', '0.11111', '0.11111', '0.11111', '0.11111', '0.11111', '0.11111', '0.11111']\n",
      "60    ['0.11111', '0.11111', '0.11111', '0.11111', '0.11111', '0.11111', '0.11111', '0.11111', '0.11111']\n",
      "61    ['0.11111', '0.11111', '0.11111', '0.11111', '0.11111', '0.11111', '0.11111', '0.11111', '0.11111']\n",
      "62    ['0.11111', '0.11111', '0.11111', '0.11111', '0.11111', '0.11111', '0.11111', '0.11111', '0.11111']\n",
      "63    ['0.11111', '0.11111', '0.11111', '0.11111', '0.11111', '0.11111', '0.11111', '0.11111', '0.11111']\n",
      "64    ['0.11111', '0.11111', '0.11111', '0.11111', '0.11111', '0.11111', '0.11111', '0.11111', '0.11111']\n",
      "65    ['0.11111', '0.11111', '0.11111', '0.11111', '0.11111', '0.11111', '0.11111', '0.11111', '0.11111']\n",
      "66    ['0.11111', '0.11111', '0.11111', '0.11111', '0.11111', '0.11111', '0.11111', '0.11111', '0.11111']\n",
      "67    ['0.11111', '0.11111', '0.11111', '0.11111', '0.11111', '0.11111', '0.11111', '0.11111', '0.11111']\n",
      "68    ['0.11111', '0.11111', '0.11111', '0.11111', '0.11111', '0.11111', '0.11111', '0.11111', '0.11111']\n",
      "69    ['0.11111', '0.11111', '0.11111', '0.11111', '0.11111', '0.11111', '0.11111', '0.11111', '0.11111']\n",
      "70    ['0.11111', '0.11111', '0.11111', '0.11111', '0.11111', '0.11111', '0.11111', '0.11111', '0.11111']\n",
      "71    ['0.11111', '0.11111', '0.11111', '0.11111', '0.11111', '0.11111', '0.11111', '0.11111', '0.11111']\n",
      "72    ['0.11111', '0.11111', '0.11111', '0.11111', '0.11111', '0.11111', '0.11111', '0.11111', '0.11111']\n",
      "73    ['0.11111', '0.11111', '0.11111', '0.11111', '0.11111', '0.11111', '0.11111', '0.11111', '0.11111']\n",
      "74    ['0.11111', '0.11111', '0.11111', '0.11111', '0.11111', '0.11111', '0.11111', '0.11111', '0.11111']\n",
      "75    ['0.11111', '0.11111', '0.11111', '0.11111', '0.11111', '0.11111', '0.11111', '0.11111', '0.11111']\n",
      "76    ['0.11111', '0.11111', '0.11111', '0.11111', '0.11111', '0.11111', '0.11111', '0.11111', '0.11111']\n",
      "77    ['0.11111', '0.11111', '0.11111', '0.11111', '0.11111', '0.11111', '0.11111', '0.11111', '0.11111']\n",
      "78    ['0.11111', '0.11111', '0.11111', '0.11111', '0.11111', '0.11111', '0.11111', '0.11111', '0.11111']\n",
      "79    ['0.11111', '0.11111', '0.11111', '0.11111', '0.11111', '0.11111', '0.11111', '0.11111', '0.11111']\n",
      "80    ['0.11111', '0.11111', '0.11111', '0.11111', '0.11111', '0.11111', '0.11111', '0.11111', '0.11111']\n",
      "81    ['0.11111', '0.11111', '0.11111', '0.11111', '0.11111', '0.11111', '0.11111', '0.11111', '0.11111']\n",
      "82    ['0.11111', '0.11111', '0.11111', '0.11111', '0.11111', '0.11111', '0.11111', '0.11111', '0.11111']\n",
      "83    ['0.11111', '0.11111', '0.11111', '0.11111', '0.11111', '0.11111', '0.11111', '0.11111', '0.11111']\n",
      "84    ['0.11111', '0.11111', '0.11111', '0.11111', '0.11111', '0.11111', '0.11111', '0.11111', '0.11111']\n",
      "85    ['0.11111', '0.11111', '0.11111', '0.11111', '0.11111', '0.11111', '0.11111', '0.11111', '0.11111']\n",
      "86    ['0.11111', '0.11111', '0.11111', '0.11111', '0.11111', '0.11111', '0.11111', '0.11111', '0.11111']\n",
      "87    ['0.11111', '0.11111', '0.11111', '0.11111', '0.11111', '0.11111', '0.11111', '0.11111', '0.11111']\n",
      "88    ['0.11111', '0.11111', '0.11111', '0.11111', '0.11111', '0.11111', '0.11111', '0.11111', '0.11111']\n",
      "89    ['0.11111', '0.11111', '0.11111', '0.11111', '0.11111', '0.11111', '0.11111', '0.11111', '0.11111']\n",
      "90    ['0.11111', '0.11111', '0.11111', '0.11111', '0.11111', '0.11111', '0.11111', '0.11111', '0.11111']\n",
      "91    ['0.11111', '0.11111', '0.11111', '0.11111', '0.11111', '0.11111', '0.11111', '0.11111', '0.11111']\n",
      "92    ['0.11111', '0.11111', '0.11111', '0.11111', '0.11111', '0.11111', '0.11111', '0.11111', '0.11111']\n",
      "93    ['0.11111', '0.11111', '0.11111', '0.11111', '0.11111', '0.11111', '0.11111', '0.11111', '0.11111']\n",
      "94    ['0.11111', '0.11111', '0.11111', '0.11111', '0.11111', '0.11111', '0.11111', '0.11111', '0.11111']\n",
      "95    ['0.11111', '0.11111', '0.11111', '0.11111', '0.11111', '0.11111', '0.11111', '0.11111', '0.11111']\n",
      "96    ['0.11111', '0.11111', '0.11111', '0.11111', '0.11111', '0.11111', '0.11111', '0.11111', '0.11111']\n",
      "97    ['0.11111', '0.11111', '0.11111', '0.11111', '0.11111', '0.11111', '0.11111', '0.11111', '0.11111']\n",
      "98    ['0.11111', '0.11111', '0.11111', '0.11111', '0.11111', '0.11111', '0.11111', '0.11111', '0.11111']\n",
      "99    ['0.11111', '0.11111', '0.11111', '0.11111', '0.11111', '0.11111', '0.11111', '0.11111', '0.11111']\n"
     ]
    }
   ],
   "source": [
    "#Solving using the Transfer-Matrix approach:\n",
    "\n",
    "\"\"\"This is important to understand for lattice type problems such as \n",
    "Ising Models, and optical lattices.\"\"\"\n",
    "\n",
    "neighbor =  [[1, 3, 0, 0], [2, 4, 0, 1], [2, 5, 1, 2],\n",
    "             [4, 6, 3, 0], [5, 7, 3, 1], [5, 8, 4, 2],\n",
    "             [7, 6, 6, 3], [8, 7, 6, 4], [8, 8, 7, 5]]\n",
    "\n",
    "#Initialize the transfer probability matrix to be a 9x9 matrix of zeros\n",
    "transfer = np.zeros((9, 9))\n",
    "\n",
    "\n",
    "for k in range(9):\n",
    "    for neigh in range(4): transfer[neighbor[k][neigh], k] += 0.25\n",
    "\n",
    "        \n",
    "position = np.zeros(9)\n",
    "position[8] = 1.0\n",
    "for t in range(100):\n",
    "    print(t,'  ',[\"%0.5f\" % i for i in position])\n",
    "    position = np.dot(transfer, position)\n",
    "\n"
   ]
  },
  {
   "cell_type": "code",
   "execution_count": 72,
   "metadata": {},
   "outputs": [
    {
     "name": "stdout",
     "output_type": "stream",
     "text": [
      "site:  0  eigen:  -0.49999999999999956\n",
      "site:  1  eigen:  -1.1792809590703096e-17\n",
      "site:  2  eigen:  1.0000000000000009\n",
      "site:  3  eigen:  0.7499999999999998\n",
      "site:  4  eigen:  0.4999999999999998\n",
      "site:  5  eigen:  0.2500000000000001\n",
      "site:  6  eigen:  2.5245337753833646e-18\n",
      "site:  7  eigen:  0.25000000000000017\n",
      "site:  8  eigen:  0.7500000000000002\n"
     ]
    }
   ],
   "source": [
    "neighbor =  [[1, 3, 0, 0], [2, 4, 0, 1], [2, 5, 1, 2],\n",
    "             [4, 6, 3, 0], [5, 7, 3, 1], [5, 8, 4, 2],\n",
    "             [7, 6, 6, 3], [8, 7, 6, 4], [8, 8, 7, 5]]\n",
    "transfer = np.zeros((9, 9))\n",
    "for k in range(9):\n",
    "    for neigh in range(4): transfer[neighbor[k][neigh], k] += 0.25\n",
    "eigenvalues, eigenvectors = np.linalg.eig(transfer)\n",
    "\n",
    "for k in range(9):\n",
    "        print('site: ', k,' eigen: ', eigenvalues[k])"
   ]
  },
  {
   "cell_type": "code",
   "execution_count": null,
   "metadata": {},
   "outputs": [],
   "source": []
  }
 ],
 "metadata": {
  "kernelspec": {
   "display_name": "Python 3",
   "language": "python",
   "name": "python3"
  },
  "language_info": {
   "codemirror_mode": {
    "name": "ipython",
    "version": 3
   },
   "file_extension": ".py",
   "mimetype": "text/x-python",
   "name": "python",
   "nbconvert_exporter": "python",
   "pygments_lexer": "ipython3",
   "version": "3.7.3"
  }
 },
 "nbformat": 4,
 "nbformat_minor": 4
}
